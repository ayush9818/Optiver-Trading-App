{
 "cells": [
  {
   "cell_type": "code",
   "execution_count": 1,
   "id": "90c5300b-672d-4543-baf5-60e727549a45",
   "metadata": {},
   "outputs": [
    {
     "name": "stdout",
     "output_type": "stream",
     "text": [
      "rds!db-f0734267-bac7-4bce-afc9-8e039aa30586\n"
     ]
    }
   ],
   "source": [
    "import boto3\n",
    "from botocore.exceptions import ClientError\n",
    "import os\n",
    "from dotenv import load_dotenv\n",
    "import json\n",
    "\n",
    "load_dotenv('../.env')\n",
    "env=os.environ\n",
    "\n",
    "print(env.get(\"DB_SECRET\"))"
   ]
  },
  {
   "cell_type": "code",
   "execution_count": 4,
   "id": "ebd3d9cd-a24c-4ba0-85d5-86e750d6d241",
   "metadata": {},
   "outputs": [],
   "source": [
    "def get_secret():\n",
    "    # Create a Secrets Manager client\n",
    "    session = boto3.session.Session(\n",
    "                aws_access_key_id=env.get('AWS_ACCESS_KEY_ID'),\n",
    "                aws_secret_access_key=env.get('AWS_SECRET_ACCESS_KEY'),\n",
    "                region_name=env.get('REGION_NAME')\n",
    "        )\n",
    "    client = session.client(\n",
    "        service_name='secretsmanager',\n",
    "        region_name=env.get('REGION_NAME')\n",
    "    )\n",
    "\n",
    "    try:\n",
    "        get_secret_value_response = client.get_secret_value(\n",
    "            SecretId=env.get('DB_SECRET')\n",
    "        )\n",
    "    except ClientError as e:\n",
    "        raise e\n",
    "\n",
    "    secret = json.loads(get_secret_value_response['SecretString'])\n",
    "    print(secret.keys())\n",
    "    print(secret)\n",
    "    return secret\n",
    "    # Your code goes here.\n"
   ]
  },
  {
   "cell_type": "code",
   "execution_count": 5,
   "id": "507b3dd2-2cbe-4abe-8c3b-cdc7fa488c29",
   "metadata": {},
   "outputs": [
    {
     "name": "stdout",
     "output_type": "stream",
     "text": [
      "dict_keys(['username', 'password'])\n",
      "{'username': 'postgres', 'password': 'r4YihcG)Y:5.9[#fZWZ19VB[vsYp'}\n"
     ]
    }
   ],
   "source": [
    "secret = get_secret()"
   ]
  },
  {
   "cell_type": "code",
   "execution_count": 7,
   "id": "51cb751a-d82e-4599-afcd-10cd8a7d927d",
   "metadata": {},
   "outputs": [
    {
     "name": "stderr",
     "output_type": "stream",
     "text": [
      "/tmp/ipykernel_53363/703149488.py:5: MovedIn20Warning: The ``declarative_base()`` function is now available as sqlalchemy.orm.declarative_base(). (deprecated since: 2.0) (Background on SQLAlchemy 2.0 at: https://sqlalche.me/e/b8d9)\n",
      "  Base = declarative_base()\n"
     ]
    }
   ],
   "source": [
    "from sqlalchemy import Column, Integer, String, create_engine\n",
    "from sqlalchemy.ext.declarative import declarative_base\n",
    "from sqlalchemy.orm import sessionmaker\n",
    "\n",
    "Base = declarative_base()\n",
    "\n",
    "class Employee(Base):\n",
    "    __tablename__ = 'employees'\n",
    "    id = Column(Integer, primary_key=True, index=True)\n",
    "    name = Column(String, index=True)\n",
    "    age = Column(Integer)\n",
    "    department = Column(String)\n",
    "\n",
    "# Database URL\n",
    "hostname=\"optiverdb.czys2w24206n.us-east-1.rds.amazonaws.com\"\n",
    "dbname=\"postgres\"\n",
    "DATABASE_URL = f\"postgresql://{secret['username']}:{secret['password']}@{hostname}:5432/{dbname}\"\n",
    "engine = create_engine(DATABASE_URL)\n",
    "SessionLocal = sessionmaker(autocommit=False, autoflush=False, bind=engine)\n",
    "\n",
    "# Create all tables in the database\n",
    "Base.metadata.create_all(bind=engine)"
   ]
  },
  {
   "cell_type": "code",
   "execution_count": null,
   "id": "492ebd6b-ccb6-4297-8702-306e9b153baf",
   "metadata": {},
   "outputs": [],
   "source": [
    "conn"
   ]
  },
  {
   "cell_type": "code",
   "execution_count": null,
   "id": "0037674f-a6a5-4ba1-b6e9-6b547ad499f9",
   "metadata": {},
   "outputs": [],
   "source": []
  }
 ],
 "metadata": {
  "kernelspec": {
   "display_name": "dev_env",
   "language": "python",
   "name": "dev_env"
  },
  "language_info": {
   "codemirror_mode": {
    "name": "ipython",
    "version": 3
   },
   "file_extension": ".py",
   "mimetype": "text/x-python",
   "name": "python",
   "nbconvert_exporter": "python",
   "pygments_lexer": "ipython3",
   "version": "3.9.16"
  }
 },
 "nbformat": 4,
 "nbformat_minor": 5
}
